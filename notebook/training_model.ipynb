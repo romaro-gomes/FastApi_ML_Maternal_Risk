{
 "cells": [
  {
   "cell_type": "code",
   "execution_count": null,
   "metadata": {},
   "outputs": [],
   "source": [
    "import pandas as pd\n",
    "import matplotlib.pyplot as plt"
   ]
  },
  {
   "cell_type": "code",
   "execution_count": null,
   "metadata": {},
   "outputs": [],
   "source": [
    "df=pd.read_csv('../data/Maternal Health Risk Data Set.csv')"
   ]
  },
  {
   "cell_type": "code",
   "execution_count": null,
   "metadata": {},
   "outputs": [],
   "source": []
  },
  {
   "cell_type": "markdown",
   "metadata": {},
   "source": [
    "# Modelation"
   ]
  },
  {
   "cell_type": "markdown",
   "metadata": {},
   "source": [
    "## Split"
   ]
  },
  {
   "cell_type": "code",
   "execution_count": null,
   "metadata": {},
   "outputs": [],
   "source": [
    "y=df['RiskLevel']\n",
    "X=df.drop('RiskLevel',axis=1)"
   ]
  },
  {
   "cell_type": "code",
   "execution_count": null,
   "metadata": {},
   "outputs": [],
   "source": [
    "X.columns"
   ]
  },
  {
   "cell_type": "code",
   "execution_count": null,
   "metadata": {},
   "outputs": [],
   "source": [
    "from sklearn.model_selection import train_test_split\n",
    "def split_dataset(X,y):\n",
    "    X_train,X_to_test,y_train,y_to_test=train_test_split(X,y,test_size=0.1,stratify=y,random_state=180)\n",
    "    X_to_fit,X_to_val,y_to_fit,y_to_val=train_test_split(X_train,y_train,test_size=0.1,stratify=y_train,random_state=180)\n",
    "    \n",
    "    return X_to_test,X_to_fit,X_to_val,y_to_test,y_to_fit,y_to_val"
   ]
  },
  {
   "cell_type": "markdown",
   "metadata": {},
   "source": [
    "## Preprocessing"
   ]
  },
  {
   "cell_type": "code",
   "execution_count": null,
   "metadata": {},
   "outputs": [],
   "source": [
    "from sklearn.compose import ColumnTransformer\n",
    "from sklearn.impute import SimpleImputer\n",
    "from sklearn.pipeline import Pipeline\n",
    "from sklearn.preprocessing import OneHotEncoder,StandardScaler\n",
    "\n",
    "def preprocessing_features(X_to_fit):\n",
    "    categorical_columns = X_to_fit.select_dtypes(include=['object']).columns.to_list()\n",
    "    numerical_columns = X_to_fit.select_dtypes(include=['float64']).columns.to_list()\n",
    "\n",
    "\n",
    "\n",
    "    num_pipeline= Pipeline(\n",
    "                    steps=[\n",
    "                        ('imputer',SimpleImputer(strategy='median')),\n",
    "                        ('scaler',StandardScaler(with_mean=False))\n",
    "                    ]\n",
    "                )\n",
    "\n",
    "    cat_pipeline=Pipeline(\n",
    "                    steps=[\n",
    "                        ('imputer',SimpleImputer(strategy='most_frequent')),\n",
    "                        ('one_hot_enconder',OneHotEncoder()),\n",
    "                        ('scaler',StandardScaler(with_mean=False))\n",
    "                    ]\n",
    "                )\n",
    "\n",
    "    preprocessor=ColumnTransformer(\n",
    "                    [\n",
    "                        ('num_pipeline',num_pipeline,numerical_columns),\n",
    "                        ('cat_pipeline',cat_pipeline,categorical_columns)\n",
    "                    ]\n",
    "                )\n",
    "\n",
    "    preprocessor.fit(X_to_fit)\n",
    "    return preprocessor"
   ]
  },
  {
   "cell_type": "code",
   "execution_count": null,
   "metadata": {},
   "outputs": [],
   "source": [
    "from sklearn.preprocessing import LabelEncoder\n",
    "\n",
    "def preprocessing_target(y_to_fit):\n",
    "    y_labels=LabelEncoder().fit(y_to_fit)\n",
    "    print(y_labels.classes_)\n",
    "    return y_labels\n"
   ]
  },
  {
   "cell_type": "markdown",
   "metadata": {},
   "source": [
    "X_test=preprocessor.transform(X_to_test)\n",
    "y_test=y_labels.transform(y_to_test.values.reshape(-1, 1))   \n",
    "\n",
    "X_val=preprocessor.transform(X_to_val)\n",
    "y_val=y_labels.transform(y_to_val.values.reshape(-1, 1))   \n"
   ]
  },
  {
   "cell_type": "markdown",
   "metadata": {},
   "source": [
    "## Training"
   ]
  },
  {
   "cell_type": "code",
   "execution_count": null,
   "metadata": {},
   "outputs": [],
   "source": [
    "from sklearn.tree import DecisionTreeClassifier\n",
    "from sklearn import svm\n",
    "from sklearn.linear_model import LogisticRegression\n",
    "from sklearn.ensemble import(\n",
    "    AdaBoostClassifier,\n",
    "    GradientBoostingClassifier,\n",
    "    RandomForestClassifier,\n",
    "    StackingClassifier\n",
    ")\n",
    "from xgboost import XGBClassifier\n",
    "from catboost import CatBoostClassifier\n",
    "from sklearn.metrics import classification_report, confusion_matrix,accuracy_score,ConfusionMatrixDisplay\n",
    "import matplotlib.pyplot as plt\n",
    "\n",
    "import warnings\n",
    "warnings.simplefilter(action='ignore', category=FutureWarning)\n"
   ]
  },
  {
   "cell_type": "code",
   "execution_count": null,
   "metadata": {},
   "outputs": [],
   "source": [
    "models = {\n",
    "                \"Random_Forest\": RandomForestClassifier(),\n",
    "                \"Decision_Tree\": DecisionTreeClassifier(),\n",
    "                \"Gradient_Boosting\": GradientBoostingClassifier(),\n",
    "                \"Logistic_Regression\": LogisticRegression(),\n",
    "                \"XGBClassifier\": XGBClassifier(),\n",
    "                \"CatBoosting_Classifier\": CatBoostClassifier(),\n",
    "                \"AdaBoost_Classifier\": AdaBoostClassifier()\n",
    "            }\n",
    "\n",
    "svm_model=svm.SVC(random_state=42)\n",
    "svm_modelo_nu=svm.NuSVC(random_state=42)\n",
    "models[\"SVM_Classifier\"] = svm_model\n",
    "stacking_model = StackingClassifier(estimators=list(models.items()),final_estimator=svm_modelo_nu,cv=10,stack_method='auto')\n",
    "models[\"Stacking_Classifier\"] = stacking_model\n"
   ]
  },
  {
   "cell_type": "code",
   "execution_count": null,
   "metadata": {},
   "outputs": [],
   "source": [
    "import mlflow\n",
    "import mlflow.sklearn\n",
    "import os\n",
    "import datetime\n",
    "\n",
    "def mlflow_tracking_training(experimental_name,X_test,X_fit,X_val,y_test,y_fit,y_val):\n",
    "    caminho_pasta=f'{experimental_name}_{datetime.datetime.now().strftime(\"%Y-%m-%d_%H-%M-%S\")}'\n",
    "    os.makedirs(caminho_pasta, exist_ok=True)\n",
    "    os.environ[\"MLFLOW_ARTIFACT_ROOT\"] = caminho_pasta\n",
    "    print(caminho_pasta)\n",
    "    mlflow.set_experiment(experimental_name)\n",
    "    with mlflow.start_run():\n",
    "        for i in range(len(list(models))):\n",
    "            model=list(models.values())[i]\n",
    "            model_name=list(models.keys())[i]\n",
    "            mlflow.sklearn.log_model(model,f\"{model_name}\")\n",
    "            print(f'--------------------Trainning {model_name} Model-------------------------------')\n",
    "            \n",
    "            model.fit(X_fit,y_fit)    \n",
    "            train_acc=model.score(X_fit,y_fit)\n",
    "            print(f'{model_name} Model Train Accuracy: {train_acc:.2f}')\n",
    "            mlflow.log_metric(\"train_acc\", train_acc)\n",
    "\n",
    "            print(f'--------------------Vailidating {model_name} Model-------------------------------')\n",
    "\n",
    "            pred_val=model.predict(X_val)\n",
    "            acc_score_validation =accuracy_score(y_val, pred_val)            \n",
    "            mlflow.log_metric(\"Validation Accuracy Score\",acc_score_validation)\n",
    "            print(f\"Validation Dataset Accuracy: {acc_score_validation:0.2f}\")\n",
    "\n",
    "            report_validation = classification_report(y_val, pred_val, output_dict=True)\n",
    "            df_report_validation = pd.DataFrame(report_validation).transpose()\n",
    "           \n",
    "\n",
    "            artifact_path=os.path.join(caminho_pasta,f'report_validation_{model_name}.csv')\n",
    "            df_report_validation.to_csv(artifact_path)\n",
    "            mlflow.log_artifact(artifact_path)\n",
    "\n",
    "            cm=confusion_matrix(y_val,pred_val,labels=model.classes_)\n",
    "            \n",
    "            disp = ConfusionMatrixDisplay(confusion_matrix=cm,display_labels=model.classes_)\n",
    "            fig, ax = plt.subplots(figsize=(8, 6))\n",
    "            disp.plot(ax=ax, values_format='d', cmap='GnBu')\n",
    "            ax.set_title(f'{model_name}: Validation')\n",
    "\n",
    "            artifact_path=os.path.join(caminho_pasta,f\"{model_name}_validation_conf_matrix.png\")\n",
    "            plt.savefig(artifact_path)\n",
    "            mlflow.log_artifact(artifact_path)\n",
    "\n",
    "            total_samples_per_class = cm.sum(axis=1)\n",
    "            precision_per_class = cm.diagonal() / total_samples_per_class\n",
    "            for class_idx, precision in enumerate(precision_per_class):\n",
    "                mlflow.log_metric(f\"Validation Precision Score {class_idx}\",precision)\n",
    "                print(f'Precisão para a classe {class_idx}: {precision}')\n",
    "\n",
    "            print(f'--------------------Testing {model_name} Model-------------------------------')\n",
    "            pred_test=model.predict(X_test)\n",
    "            acc_score_test=accuracy_score(y_test, pred_test)            \n",
    "            mlflow.log_metric(\"Testing Accuracy Score\",acc_score_test)\n",
    "            print(f\"Test Dataset Accuracy: {acc_score_test:0.2f}\")\n",
    "\n",
    "            report_testing = classification_report(y_val, pred_val, output_dict=True)\n",
    "            df_report_testing = pd.DataFrame(report_testing).transpose()\n",
    "\n",
    "            artifact_path=os.path.join(caminho_pasta,f'report_testing_{model_name}.csv')        \n",
    "            df_report_testing.to_csv(artifact_path)\n",
    "            mlflow.log_artifact(artifact_path)\n",
    "\n",
    "            cm=confusion_matrix(y_test,pred_test,labels=model.classes_)\n",
    "            disp = ConfusionMatrixDisplay(confusion_matrix=cm,display_labels=model.classes_)\n",
    "            fig, ax = plt.subplots(figsize=(8, 6))\n",
    "            disp.plot(ax=ax, values_format='d', cmap='BuPu')\n",
    "            ax.set_title(f'{model_name}: Test')\n",
    "\n",
    "            artifact_path=os.path.join(caminho_pasta,f\"{model_name}_test_conf_matrix.png\")\n",
    "            plt.savefig(artifact_path)\n",
    "            mlflow.log_artifact(artifact_path)\n",
    "            \n",
    "\n",
    "            total_samples_per_class = cm.sum(axis=1)\n",
    "            precision_per_class = cm.diagonal() / total_samples_per_class\n",
    "            for class_idx, precision in enumerate(precision_per_class):\n",
    "                mlflow.log_metric(f\"Testing Precision Score {class_idx}\",precision)\n",
    "                print(f'Precisão para a classe {class_idx}: {precision}')                      \n",
    "            mlflow.end_run() \n",
    "\n",
    "        \n",
    "        \n",
    "\n",
    "\n",
    "    "
   ]
  },
  {
   "cell_type": "markdown",
   "metadata": {},
   "source": [
    "# Mlfow"
   ]
  },
  {
   "cell_type": "markdown",
   "metadata": {},
   "source": [
    "## No Balance"
   ]
  },
  {
   "cell_type": "code",
   "execution_count": null,
   "metadata": {},
   "outputs": [],
   "source": [
    "X_to_test,X_to_fit,X_to_val,y_to_test,y_to_fit,y_to_val = split_dataset(X,y)\n",
    "preprocessor=preprocessing_features(X_to_fit)\n",
    "X_fit=preprocessor.transform(X_to_fit)\n",
    "X_test=preprocessor.transform(X_to_test)\n",
    "X_val=preprocessor.transform(X_to_val)\n",
    "\n",
    "y_labels=preprocessing_target(y_to_fit)\n",
    "y_test=y_labels.transform(y_to_test)\n",
    "y_fit=y_labels.transform(y_to_fit)\n",
    "y_val=y_labels.transform(y_to_val)\n",
    "y_fit"
   ]
  },
  {
   "cell_type": "code",
   "execution_count": null,
   "metadata": {},
   "outputs": [],
   "source": [
    "models = {\n",
    "                \"Random_Forest\": RandomForestClassifier(random_state=42),\n",
    "                \"Decision_Tree\": DecisionTreeClassifier(random_state=42),\n",
    "                \"Gradient_Boosting\": GradientBoostingClassifier(random_state=42),\n",
    "                \"Logistic_Regression\": LogisticRegression(random_state=42),\n",
    "                \"XGBClassifier\": XGBClassifier(),\n",
    "                \"CatBoosting_Classifier\": CatBoostClassifier(random_state=42),\n",
    "                \"AdaBoost_Classifier\": AdaBoostClassifier(random_state=42),\n",
    "                \"SVM_Classifier\":svm.SVC(random_state=42)\n",
    "            }\n",
    "\n",
    "svm_modelo_nu=svm.NuSVC(random_state=42)\n",
    "stacking_model = StackingClassifier(estimators=list(models.items()),final_estimator=svm_modelo_nu,cv=10,stack_method='auto')\n",
    "models[\"Stacking_Classifier\"] = stacking_model\n"
   ]
  },
  {
   "cell_type": "code",
   "execution_count": null,
   "metadata": {},
   "outputs": [],
   "source": [
    "mlflow_tracking_training(\"Imbalance_Models\",X_test,X_fit,X_val,y_test,y_fit,y_val)"
   ]
  },
  {
   "cell_type": "code",
   "execution_count": null,
   "metadata": {},
   "outputs": [],
   "source": [
    "mlflow.end_run()"
   ]
  },
  {
   "cell_type": "markdown",
   "metadata": {},
   "source": [
    "## Imbalance with Weights"
   ]
  },
  {
   "cell_type": "code",
   "execution_count": null,
   "metadata": {},
   "outputs": [],
   "source": [
    "class_weights = {0: 0.9, 1:0.05 , 2: 0.05}\n",
    "models = {\n",
    "                \"Random Forest\": RandomForestClassifier(class_weight=class_weights,random_state=42),\n",
    "                \"Decision Tree\": DecisionTreeClassifier(class_weight=class_weights,random_state=42),\n",
    "                \"Gradient Boosting\": GradientBoostingClassifier(random_state=42),\n",
    "                \"Logistic Regression\": LogisticRegression(class_weight=class_weights,random_state=42),\n",
    "                \"XGBClassifier\": XGBClassifier(),\n",
    "                \"CatBoosting Classifier\": CatBoostClassifier(class_weights=class_weights,random_state=42),\n",
    "                \"AdaBoost Classifier\": AdaBoostClassifier(random_state=42),\n",
    "                \"SVM Classifier\":svm.SVC(random_state=42,class_weight=class_weights),\n",
    "            }\n",
    "\n",
    "\n",
    "svm_modelo_nu=svm.NuSVC(random_state=42,class_weight=class_weights)\n",
    "stacking_model = StackingClassifier(estimators=list(models.items()),final_estimator=svm_modelo_nu,cv=10,stack_method='auto')\n",
    "models[\"Stacking Classifier\"] = stacking_model\n"
   ]
  },
  {
   "cell_type": "code",
   "execution_count": null,
   "metadata": {},
   "outputs": [],
   "source": [
    "mlflow_tracking_training(f\"Imbalance_Models_with_weights\",X_test,X_fit,X_val,y_test,y_fit,y_val)"
   ]
  },
  {
   "cell_type": "markdown",
   "metadata": {},
   "source": [
    "## Balance Data"
   ]
  },
  {
   "cell_type": "code",
   "execution_count": null,
   "metadata": {},
   "outputs": [],
   "source": [
    "from imblearn.over_sampling import SMOTE\n",
    "ros = SMOTE(random_state=42)\n",
    "X_ros, y_ros = ros.fit_resample(X, y)"
   ]
  },
  {
   "cell_type": "code",
   "execution_count": null,
   "metadata": {},
   "outputs": [],
   "source": [
    "y_ros.value_counts()"
   ]
  },
  {
   "cell_type": "code",
   "execution_count": null,
   "metadata": {},
   "outputs": [],
   "source": [
    "X_to_test,X_to_fit,X_to_val,y_to_test,y_to_fit,y_to_val = split_dataset(X_ros,y_ros)\n",
    "preprocessor=preprocessing_features(X_to_fit)\n",
    "X_fit=preprocessor.transform(X_to_fit)\n",
    "X_test=preprocessor.transform(X_to_test)\n",
    "X_val=preprocessor.transform(X_to_val)\n",
    "\n",
    "y_labels=preprocessing_target(y_to_fit)\n",
    "y_test=y_labels.transform(y_to_test)\n",
    "y_fit=y_labels.transform(y_to_fit)\n",
    "y_val=y_labels.transform(y_to_val)"
   ]
  },
  {
   "cell_type": "code",
   "execution_count": null,
   "metadata": {},
   "outputs": [],
   "source": [
    "models = {\n",
    "                \"Random_Forest\": RandomForestClassifier(random_state=42),\n",
    "                \"Decision_Tree\": DecisionTreeClassifier(random_state=42),\n",
    "                \"Gradient_Boosting\": GradientBoostingClassifier(random_state=42),\n",
    "                \"Logistic_Regression\": LogisticRegression(random_state=42),\n",
    "                \"XGBClassifier\": XGBClassifier(),\n",
    "                \"CatBoosting_Classifier\": CatBoostClassifier(random_state=42),\n",
    "                \"AdaBoost_Classifier\": AdaBoostClassifier(random_state=42),\n",
    "                \"SVM_Classifier\":svm.SVC(random_state=42)\n",
    "            }\n",
    "\n",
    "svm_modelo_nu=svm.NuSVC(random_state=42)\n",
    "stacking_model = StackingClassifier(estimators=list(models.items()),final_estimator=svm_modelo_nu,cv=10,stack_method='auto')\n",
    "models[\"Stacking_Classifier\"] = stacking_model\n"
   ]
  },
  {
   "cell_type": "code",
   "execution_count": null,
   "metadata": {},
   "outputs": [],
   "source": [
    "mlflow_tracking_training(f\"Balance_Models_by_SMOTE\",X_test,X_fit,X_val,y_test,y_fit,y_val)"
   ]
  },
  {
   "cell_type": "code",
   "execution_count": 55,
   "metadata": {},
   "outputs": [],
   "source": [
    "import pickle\n",
    "pickle.dump(preprocessor, open('preprocessor.pkl', 'wb') )"
   ]
  },
  {
   "cell_type": "code",
   "execution_count": 61,
   "metadata": {},
   "outputs": [],
   "source": [
    "model=pickle.load(open('d:/Romario/Programar/Ferramentas/Python/mlops/maternal/notebook/mlruns/871694342626557443/577b5f2c34b6431eb36fe1112825b8e8/artifacts/Gradient_Boosting/model.pkl','rb'))"
   ]
  },
  {
   "cell_type": "code",
   "execution_count": 62,
   "metadata": {},
   "outputs": [
    {
     "data": {
      "text/html": [
       "<style>#sk-container-id-1 {color: black;}#sk-container-id-1 pre{padding: 0;}#sk-container-id-1 div.sk-toggleable {background-color: white;}#sk-container-id-1 label.sk-toggleable__label {cursor: pointer;display: block;width: 100%;margin-bottom: 0;padding: 0.3em;box-sizing: border-box;text-align: center;}#sk-container-id-1 label.sk-toggleable__label-arrow:before {content: \"▸\";float: left;margin-right: 0.25em;color: #696969;}#sk-container-id-1 label.sk-toggleable__label-arrow:hover:before {color: black;}#sk-container-id-1 div.sk-estimator:hover label.sk-toggleable__label-arrow:before {color: black;}#sk-container-id-1 div.sk-toggleable__content {max-height: 0;max-width: 0;overflow: hidden;text-align: left;background-color: #f0f8ff;}#sk-container-id-1 div.sk-toggleable__content pre {margin: 0.2em;color: black;border-radius: 0.25em;background-color: #f0f8ff;}#sk-container-id-1 input.sk-toggleable__control:checked~div.sk-toggleable__content {max-height: 200px;max-width: 100%;overflow: auto;}#sk-container-id-1 input.sk-toggleable__control:checked~label.sk-toggleable__label-arrow:before {content: \"▾\";}#sk-container-id-1 div.sk-estimator input.sk-toggleable__control:checked~label.sk-toggleable__label {background-color: #d4ebff;}#sk-container-id-1 div.sk-label input.sk-toggleable__control:checked~label.sk-toggleable__label {background-color: #d4ebff;}#sk-container-id-1 input.sk-hidden--visually {border: 0;clip: rect(1px 1px 1px 1px);clip: rect(1px, 1px, 1px, 1px);height: 1px;margin: -1px;overflow: hidden;padding: 0;position: absolute;width: 1px;}#sk-container-id-1 div.sk-estimator {font-family: monospace;background-color: #f0f8ff;border: 1px dotted black;border-radius: 0.25em;box-sizing: border-box;margin-bottom: 0.5em;}#sk-container-id-1 div.sk-estimator:hover {background-color: #d4ebff;}#sk-container-id-1 div.sk-parallel-item::after {content: \"\";width: 100%;border-bottom: 1px solid gray;flex-grow: 1;}#sk-container-id-1 div.sk-label:hover label.sk-toggleable__label {background-color: #d4ebff;}#sk-container-id-1 div.sk-serial::before {content: \"\";position: absolute;border-left: 1px solid gray;box-sizing: border-box;top: 0;bottom: 0;left: 50%;z-index: 0;}#sk-container-id-1 div.sk-serial {display: flex;flex-direction: column;align-items: center;background-color: white;padding-right: 0.2em;padding-left: 0.2em;position: relative;}#sk-container-id-1 div.sk-item {position: relative;z-index: 1;}#sk-container-id-1 div.sk-parallel {display: flex;align-items: stretch;justify-content: center;background-color: white;position: relative;}#sk-container-id-1 div.sk-item::before, #sk-container-id-1 div.sk-parallel-item::before {content: \"\";position: absolute;border-left: 1px solid gray;box-sizing: border-box;top: 0;bottom: 0;left: 50%;z-index: -1;}#sk-container-id-1 div.sk-parallel-item {display: flex;flex-direction: column;z-index: 1;position: relative;background-color: white;}#sk-container-id-1 div.sk-parallel-item:first-child::after {align-self: flex-end;width: 50%;}#sk-container-id-1 div.sk-parallel-item:last-child::after {align-self: flex-start;width: 50%;}#sk-container-id-1 div.sk-parallel-item:only-child::after {width: 0;}#sk-container-id-1 div.sk-dashed-wrapped {border: 1px dashed gray;margin: 0 0.4em 0.5em 0.4em;box-sizing: border-box;padding-bottom: 0.4em;background-color: white;}#sk-container-id-1 div.sk-label label {font-family: monospace;font-weight: bold;display: inline-block;line-height: 1.2em;}#sk-container-id-1 div.sk-label-container {text-align: center;}#sk-container-id-1 div.sk-container {/* jupyter's `normalize.less` sets `[hidden] { display: none; }` but bootstrap.min.css set `[hidden] { display: none !important; }` so we also need the `!important` here to be able to override the default hidden behavior on the sphinx rendered scikit-learn.org. See: https://github.com/scikit-learn/scikit-learn/issues/21755 */display: inline-block !important;position: relative;}#sk-container-id-1 div.sk-text-repr-fallback {display: none;}</style><div id=\"sk-container-id-1\" class=\"sk-top-container\"><div class=\"sk-text-repr-fallback\"><pre>GradientBoostingClassifier(random_state=42)</pre><b>In a Jupyter environment, please rerun this cell to show the HTML representation or trust the notebook. <br />On GitHub, the HTML representation is unable to render, please try loading this page with nbviewer.org.</b></div><div class=\"sk-container\" hidden><div class=\"sk-item\"><div class=\"sk-estimator sk-toggleable\"><input class=\"sk-toggleable__control sk-hidden--visually\" id=\"sk-estimator-id-1\" type=\"checkbox\" checked><label for=\"sk-estimator-id-1\" class=\"sk-toggleable__label sk-toggleable__label-arrow\">GradientBoostingClassifier</label><div class=\"sk-toggleable__content\"><pre>GradientBoostingClassifier(random_state=42)</pre></div></div></div></div></div>"
      ],
      "text/plain": [
       "GradientBoostingClassifier(random_state=42)"
      ]
     },
     "execution_count": 62,
     "metadata": {},
     "output_type": "execute_result"
    }
   ],
   "source": [
    "model.fit(X_test,y_test)"
   ]
  },
  {
   "cell_type": "code",
   "execution_count": null,
   "metadata": {},
   "outputs": [],
   "source": [
    "pickle.dump(model, open('../model.pkl', 'wb') )"
   ]
  }
 ],
 "metadata": {
  "kernelspec": {
   "display_name": ".venv",
   "language": "python",
   "name": "python3"
  },
  "language_info": {
   "codemirror_mode": {
    "name": "ipython",
    "version": 3
   },
   "file_extension": ".py",
   "mimetype": "text/x-python",
   "name": "python",
   "nbconvert_exporter": "python",
   "pygments_lexer": "ipython3",
   "version": "3.11.4"
  },
  "orig_nbformat": 4
 },
 "nbformat": 4,
 "nbformat_minor": 2
}
